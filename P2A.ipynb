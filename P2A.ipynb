{
  "nbformat": 4,
  "nbformat_minor": 0,
  "metadata": {
    "colab": {
      "provenance": [],
      "authorship_tag": "ABX9TyP0BQfP11T4ExpsKSbf2DbX",
      "include_colab_link": true
    },
    "kernelspec": {
      "name": "python3",
      "display_name": "Python 3"
    },
    "language_info": {
      "name": "python"
    }
  },
  "cells": [
    {
      "cell_type": "markdown",
      "metadata": {
        "id": "view-in-github",
        "colab_type": "text"
      },
      "source": [
        "<a href=\"https://colab.research.google.com/github/camilagonzalezquevedo/Tarea_2_Mec_Estadist/blob/main/P2A.ipynb\" target=\"_parent\"><img src=\"https://colab.research.google.com/assets/colab-badge.svg\" alt=\"Open In Colab\"/></a>"
      ]
    },
    {
      "cell_type": "code",
      "execution_count": null,
      "metadata": {
        "colab": {
          "base_uri": "https://localhost:8080/"
        },
        "id": "4Kef9ZDRYkbr",
        "outputId": "37600054-5a0f-4ef0-e87d-2843b1a15da3"
      },
      "outputs": [
        {
          "output_type": "stream",
          "name": "stdout",
          "text": [
            "Requirement already satisfied: numpy in /usr/local/lib/python3.10/dist-packages (1.26.4)\n",
            "Requirement already satisfied: matplotlib in /usr/local/lib/python3.10/dist-packages (3.7.1)\n",
            "Requirement already satisfied: contourpy>=1.0.1 in /usr/local/lib/python3.10/dist-packages (from matplotlib) (1.3.0)\n",
            "Requirement already satisfied: cycler>=0.10 in /usr/local/lib/python3.10/dist-packages (from matplotlib) (0.12.1)\n",
            "Requirement already satisfied: fonttools>=4.22.0 in /usr/local/lib/python3.10/dist-packages (from matplotlib) (4.53.1)\n",
            "Requirement already satisfied: kiwisolver>=1.0.1 in /usr/local/lib/python3.10/dist-packages (from matplotlib) (1.4.7)\n",
            "Requirement already satisfied: numpy>=1.20 in /usr/local/lib/python3.10/dist-packages (from matplotlib) (1.26.4)\n",
            "Requirement already satisfied: packaging>=20.0 in /usr/local/lib/python3.10/dist-packages (from matplotlib) (24.1)\n",
            "Requirement already satisfied: pillow>=6.2.0 in /usr/local/lib/python3.10/dist-packages (from matplotlib) (10.4.0)\n",
            "Requirement already satisfied: pyparsing>=2.3.1 in /usr/local/lib/python3.10/dist-packages (from matplotlib) (3.1.4)\n",
            "Requirement already satisfied: python-dateutil>=2.7 in /usr/local/lib/python3.10/dist-packages (from matplotlib) (2.8.2)\n",
            "Requirement already satisfied: six>=1.5 in /usr/local/lib/python3.10/dist-packages (from python-dateutil>=2.7->matplotlib) (1.16.0)\n"
          ]
        }
      ],
      "source": [
        "!pip install numpy\n",
        "!pip install matplotlib"
      ]
    },
    {
      "cell_type": "code",
      "source": [
        "import numpy as np\n",
        "import itertools\n",
        "import matplotlib.pyplot as plt"
      ],
      "metadata": {
        "id": "D2yXM59SYxL1"
      },
      "execution_count": 6,
      "outputs": []
    },
    {
      "cell_type": "markdown",
      "source": [
        "# Algorítmo Gray-Flip\n",
        "\n",
        "Aplicación del algoritmo *gray-flip* para N spins, contiene todas las configuraciones posibles para un número N pequeño."
      ],
      "metadata": {
        "id": "UadPptEHcqTW"
      }
    },
    {
      "cell_type": "code",
      "source": [
        "def gray_flip(tau, N):\n",
        "\n",
        "    k = tau[0]  #valor inicial de k\n",
        "\n",
        "    if k > N:\n",
        "        return None, None\n",
        "\n",
        "    tau[k-1] = tau[k]\n",
        "    tau[k] = k + 1\n",
        "\n",
        "    if k != 1:\n",
        "        tau[0] = 1\n",
        "\n",
        "    return tau, k  #devuelve el indice que se volteo\n",
        "\n",
        "L = 2\n",
        "N = L * L\n",
        "tau_0 = list(range(1, N + 2))\n",
        "\n",
        "spin = [-1]*N\n",
        "print(spin)\n",
        "\n",
        "for i in range(2 ** N - 1):\n",
        "    tau_0, k = gray_flip(tau_0, N)\n",
        "    spin[k - 1] = -spin[k - 1]\n",
        "    print(spin)\n"
      ],
      "metadata": {
        "colab": {
          "base_uri": "https://localhost:8080/"
        },
        "id": "cz-LOQNcZT0y",
        "outputId": "4cfba531-0219-4d24-fd53-f9a2abc9beaf"
      },
      "execution_count": 2,
      "outputs": [
        {
          "output_type": "stream",
          "name": "stdout",
          "text": [
            "[-1, -1, -1, -1]\n",
            "[1, -1, -1, -1]\n",
            "[1, 1, -1, -1]\n",
            "[-1, 1, -1, -1]\n",
            "[-1, 1, 1, -1]\n",
            "[1, 1, 1, -1]\n",
            "[1, -1, 1, -1]\n",
            "[-1, -1, 1, -1]\n",
            "[-1, -1, 1, 1]\n",
            "[1, -1, 1, 1]\n",
            "[1, 1, 1, 1]\n",
            "[-1, 1, 1, 1]\n",
            "[-1, 1, -1, 1]\n",
            "[1, 1, -1, 1]\n",
            "[1, -1, -1, 1]\n",
            "[-1, -1, -1, 1]\n"
          ]
        }
      ]
    },
    {
      "cell_type": "markdown",
      "source": [
        "# **Algorítmo Enumerate-Ising y Gray-Flip**\n",
        "\n",
        "Ahora combinaremos ambos algoritmos para generar la densidad de estados de las redes cuadradas de dimensiones 2x2, 4x4 y 6x6 con y sin condiciones de borde periódica."
      ],
      "metadata": {
        "id": "C1epaUfuTY3q"
      }
    },
    {
      "cell_type": "markdown",
      "source": [
        "# **Para redes de 2x2 y 4x4**\n",
        "*Con* condiciones periódicas"
      ],
      "metadata": {
        "id": "AzuRF_n4tIvd"
      }
    },
    {
      "cell_type": "code",
      "source": [
        "def gray_flip(tau, N):\n",
        "    k = tau[0]\n",
        "    if k > N:\n",
        "        return None, None\n",
        "    tau[k-1] = tau[k]\n",
        "    tau[k] = k + 1\n",
        "    if k != 1:\n",
        "        tau[0] = 1\n",
        "    return tau, k\n",
        "\n",
        "#energia del modelo de Ising\n",
        "def calculate_energy(spins, L, periodic=True):\n",
        "    N = L * L\n",
        "    spins = spins.reshape(L, L)\n",
        "    energy = 0\n",
        "    for i in range(L):\n",
        "        for j in range(L):\n",
        "            S = spins[i, j]\n",
        "            neighbors = [spins[i, (j + 1) % L],  #derecha\n",
        "                         spins[(i + 1) % L, j],  #arriba\n",
        "                         spins[i, (j - 1) % L],  #izquierda\n",
        "                         spins[(i - 1) % L, j]]  #abajo\n",
        "            energy -= S * sum(neighbors)\n",
        "\n",
        "    return energy / 2\n",
        "\n",
        "#configuraciones y contar N(E)\n",
        "def enumerate_ising(L, periodic=True):\n",
        "    N = L * L\n",
        "    spins = np.full(N, -1)\n",
        "    tau = list(range(1, N + 2))\n",
        "    energy_histogram = {}\n",
        "\n",
        "    for _ in range(2 ** N):\n",
        "        E = calculate_energy(np.array(spins), L, periodic)\n",
        "\n",
        "        if E not in energy_histogram:\n",
        "            energy_histogram[E] = 1\n",
        "        else:\n",
        "            energy_histogram[E] += 1\n",
        "\n",
        "        tau, k = gray_flip(tau, N)\n",
        "        if k is None:\n",
        "            break\n",
        "\n",
        "        spins[k-1] = -spins[k-1]\n",
        "\n",
        "    return energy_histogram\n",
        "\n",
        "#densidad de estados\n",
        "def print_density_of_states(L, periodic=True):\n",
        "    energy_histogram = enumerate_ising(L, periodic=True)\n",
        "    sorted_energies = sorted(energy_histogram.keys())\n",
        "    for energy in sorted_energies:\n",
        "       if energy >= 0:\n",
        "        print(f\"E = {energy},  N(E) = {energy_histogram[energy]:,}\")\n",
        "\n",
        "#redes 2x2 y 4x4\n",
        "for L in [2, 4]:\n",
        "    print(f\"\\nDensidad de estados para {L}x{L}:\")\n",
        "    print_density_of_states(L)"
      ],
      "metadata": {
        "colab": {
          "base_uri": "https://localhost:8080/"
        },
        "id": "-gOK_paMtHX5",
        "outputId": "114d0085-d083-4b24-c934-3dde5f326f79"
      },
      "execution_count": 8,
      "outputs": [
        {
          "output_type": "stream",
          "name": "stdout",
          "text": [
            "\n",
            "Densidad de estados para 2x2:\n",
            "E = 0.0,  N(E) = 12\n",
            "E = 8.0,  N(E) = 2\n",
            "\n",
            "Densidad de estados para 4x4:\n",
            "E = 0.0,  N(E) = 20,524\n",
            "E = 4.0,  N(E) = 13,568\n",
            "E = 8.0,  N(E) = 6,688\n",
            "E = 12.0,  N(E) = 1,728\n",
            "E = 16.0,  N(E) = 424\n",
            "E = 20.0,  N(E) = 64\n",
            "E = 24.0,  N(E) = 32\n",
            "E = 32.0,  N(E) = 2\n"
          ]
        }
      ]
    },
    {
      "cell_type": "markdown",
      "source": [
        "Ahora para las redes de 2x2 y 4x4 *sin* condiciones periódicas:"
      ],
      "metadata": {
        "id": "KJZTj4Uy0bTA"
      }
    },
    {
      "cell_type": "code",
      "source": [
        "def gray_flip(tau, N):\n",
        "    k = tau[0]\n",
        "    if k > N:\n",
        "        return None, None\n",
        "    tau[k-1] = tau[k]\n",
        "    tau[k] = k + 1\n",
        "    if k != 1:\n",
        "        tau[0] = 1\n",
        "    return tau, k\n",
        "\n",
        "#energia del modelo de Ising\n",
        "def calculate_energy_non_periodic(spins, L):\n",
        "    N = L * L\n",
        "    spins = spins.reshape(L, L)\n",
        "    energy = 0\n",
        "    for i in range(L):\n",
        "        for j in range(L):\n",
        "            S = spins[i, j]\n",
        "            #vecinos solo si estan dentro de los limites\n",
        "            if j + 1 < L:  #derecha\n",
        "                energy -= S * spins[i, j + 1]\n",
        "            if i + 1 < L:  #abajo\n",
        "                energy -= S * spins[i + 1, j]\n",
        "            if j - 1 >= 0:  #izquierda\n",
        "                energy -= S * spins[i, j - 1]\n",
        "            if i - 1 >= 0:  #arriba\n",
        "                energy -= S * spins[i - 1, j]\n",
        "\n",
        "    return energy / 2\n",
        "\n",
        "#configuraciones y contar N(E)\n",
        "def enumerate_ising_non_periodic(L):\n",
        "    N = L * L\n",
        "    spins = np.full(N, -1)\n",
        "    tau = list(range(1, N + 2))\n",
        "    energy_histogram = {}\n",
        "\n",
        "    for _ in range(2 ** N):\n",
        "        E = calculate_energy_non_periodic(np.array(spins), L)\n",
        "\n",
        "        if E not in energy_histogram:\n",
        "            energy_histogram[E] = 1\n",
        "        else:\n",
        "            energy_histogram[E] += 1\n",
        "\n",
        "        tau, k = gray_flip(tau, N)\n",
        "        if k is None:\n",
        "            break\n",
        "\n",
        "        spins[k-1] = -spins[k-1]\n",
        "\n",
        "    return energy_histogram\n",
        "\n",
        "#densidad de estados\n",
        "def print_density_of_states_non_periodic(L):\n",
        "    energy_histogram = enumerate_ising_non_periodic(L)\n",
        "    sorted_energies = sorted(energy_histogram.keys())\n",
        "    for energy in sorted_energies:\n",
        "      if energy >= 0:\n",
        "        print(f\"E = {energy},  N(E) = {energy_histogram[energy]:,}\")\n",
        "\n",
        "#redes 2x2 y 4x4\n",
        "for L in [2, 4]:\n",
        "    print(f\"\\nDensidad de estados para {L}x{L}:\")\n",
        "    print_density_of_states_non_periodic(L)"
      ],
      "metadata": {
        "colab": {
          "base_uri": "https://localhost:8080/"
        },
        "outputId": "41cc6edc-c218-4183-b94c-c7f7a42307b5",
        "id": "kTPNgZHg0rfF"
      },
      "execution_count": 9,
      "outputs": [
        {
          "output_type": "stream",
          "name": "stdout",
          "text": [
            "\n",
            "Densidad de estados para 2x2:\n",
            "E = 0.0,  N(E) = 12\n",
            "E = 4.0,  N(E) = 2\n",
            "\n",
            "Densidad de estados para 4x4:\n",
            "E = 0.0,  N(E) = 11,472\n",
            "E = 2.0,  N(E) = 9,984\n",
            "E = 4.0,  N(E) = 7,344\n",
            "E = 6.0,  N(E) = 4,928\n",
            "E = 8.0,  N(E) = 2,638\n",
            "E = 10.0,  N(E) = 1,216\n",
            "E = 12.0,  N(E) = 584\n",
            "E = 14.0,  N(E) = 224\n",
            "E = 16.0,  N(E) = 72\n",
            "E = 18.0,  N(E) = 32\n",
            "E = 20.0,  N(E) = 8\n",
            "E = 24.0,  N(E) = 2\n"
          ]
        }
      ]
    },
    {
      "cell_type": "markdown",
      "source": [
        "# **Para redes de 6x6**\n",
        "\n",
        "Con condiciones de borde periódicos:"
      ],
      "metadata": {
        "id": "xk1e3AqFyzI5"
      }
    },
    {
      "cell_type": "code",
      "source": [
        "def gray_flip(tau, N):\n",
        "    k = tau[0]\n",
        "    if k > N:\n",
        "        return None, None\n",
        "    tau[k-1] = tau[k]\n",
        "    tau[k] = k + 1\n",
        "    if k != 1:\n",
        "        tau[0] = 1\n",
        "    return tau, k\n",
        "\n",
        "#energia del modelo de Ising\n",
        "def calculate_energy(spins, L, periodic=True):\n",
        "    N = L * L\n",
        "    spins = spins.reshape(L, L)\n",
        "    energy = 0\n",
        "    for i in range(L):\n",
        "        for j in range(L):\n",
        "            S = spins[i, j]\n",
        "            neighbors = [spins[i, (j + 1) % L],  #derecha\n",
        "                         spins[(i + 1) % L, j],  #arriba\n",
        "                         spins[i, (j - 1) % L],  #izquierda\n",
        "                         spins[(i - 1) % L, j]]  #abajo\n",
        "            energy -= S * sum(neighbors)\n",
        "\n",
        "    return energy / 2\n",
        "\n",
        "#configuraciones y contar N(E)\n",
        "def enumerate_ising(L, periodic=True):\n",
        "    N = L * L\n",
        "    spins = np.full(N, -1)\n",
        "    tau = list(range(1, N + 2))\n",
        "    energy_histogram = {}\n",
        "\n",
        "    for _ in range(2 ** N):\n",
        "        E = calculate_energy(np.array(spins), L, periodic)\n",
        "\n",
        "        if E not in energy_histogram:\n",
        "            energy_histogram[E] = 1\n",
        "        else:\n",
        "            energy_histogram[E] += 1\n",
        "\n",
        "        tau, k = gray_flip(tau, N)\n",
        "        if k is None:\n",
        "            break\n",
        "\n",
        "        spins[k-1] = -spins[k-1]\n",
        "\n",
        "    return energy_histogram\n",
        "\n",
        "#densidad de estados\n",
        "def print_density_of_states(L, periodic=True):\n",
        "    energy_histogram = enumerate_ising(L, periodic=True)\n",
        "    sorted_energies = sorted(energy_histogram.keys())\n",
        "    for energy in sorted_energies:\n",
        "       if energy >= 0:\n",
        "        print(f\"E = {energy},  N(E) = {energy_histogram[energy]:,}\")\n",
        "\n",
        "\n",
        "for L in [5]:\n",
        "    print(f\"\\nDensidad de estados para {L}x{L}:\")\n",
        "    print_density_of_states(L)"
      ],
      "metadata": {
        "colab": {
          "base_uri": "https://localhost:8080/"
        },
        "outputId": "5df44bf8-8d15-4551-8ab0-483f6345790e",
        "id": "riiOWl7uy5bA"
      },
      "execution_count": 5,
      "outputs": [
        {
          "output_type": "stream",
          "name": "stdout",
          "text": [
            "\n",
            "Densidad de estados para 5x5:\n",
            "E = 2.0,  N(E) = 7,413,900\n",
            "E = 6.0,  N(E) = 5,276,500\n",
            "E = 10.0,  N(E) = 2,645,740\n",
            "E = 14.0,  N(E) = 1,024,150\n",
            "E = 18.0,  N(E) = 314,300\n",
            "E = 22.0,  N(E) = 82,750\n",
            "E = 26.0,  N(E) = 14,800\n",
            "E = 30.0,  N(E) = 2,470\n"
          ]
        }
      ]
    },
    {
      "cell_type": "markdown",
      "source": [
        "Sin condiciones de borde periódicos:"
      ],
      "metadata": {
        "id": "MGW2mIhR2jjt"
      }
    },
    {
      "cell_type": "code",
      "source": [
        "def gray_flip(tau, N):\n",
        "    k = tau[0]\n",
        "    if k > N:\n",
        "        return None, None\n",
        "    tau[k-1] = tau[k]\n",
        "    tau[k] = k + 1\n",
        "    if k != 1:\n",
        "        tau[0] = 1\n",
        "    return tau, k\n",
        "\n",
        "#energia del modelo de Ising\n",
        "def calculate_energy_non_periodic(spins, L):\n",
        "    N = L * L\n",
        "    spins = spins.reshape(L, L)\n",
        "    energy = 0\n",
        "    for i in range(L):\n",
        "        for j in range(L):\n",
        "            S = spins[i, j]\n",
        "            #vecinos solo si estan dentro de los limites\n",
        "            if j + 1 < L:  #derecha\n",
        "                energy -= S * spins[i, j + 1]\n",
        "            if i + 1 < L:  #abajo\n",
        "                energy -= S * spins[i + 1, j]\n",
        "            if j - 1 >= 0:  #izquierda\n",
        "                energy -= S * spins[i, j - 1]\n",
        "            if i - 1 >= 0:  #arriba\n",
        "                energy -= S * spins[i - 1, j]\n",
        "\n",
        "    return energy / 2\n",
        "\n",
        "#configuraciones y contar N(E)\n",
        "def enumerate_ising_non_periodic(L):\n",
        "    N = L * L\n",
        "    spins = np.full(N, -1)\n",
        "    tau = list(range(1, N + 2))\n",
        "    energy_histogram = {}\n",
        "\n",
        "    for _ in range(2 ** N):\n",
        "        E = calculate_energy_non_periodic(np.array(spins), L)\n",
        "\n",
        "        if E not in energy_histogram:\n",
        "            energy_histogram[E] = 1\n",
        "        else:\n",
        "            energy_histogram[E] += 1\n",
        "\n",
        "        tau, k = gray_flip(tau, N)\n",
        "        if k is None:\n",
        "            break\n",
        "\n",
        "        spins[k-1] = -spins[k-1]\n",
        "\n",
        "    return energy_histogram\n",
        "\n",
        "#densidad de estados\n",
        "def print_density_of_states_non_periodic(L):\n",
        "    energy_histogram = enumerate_ising_non_periodic(L)\n",
        "    sorted_energies = sorted(energy_histogram.keys())\n",
        "    for energy in sorted_energies:\n",
        "      if energy >= 0:\n",
        "        print(f\"E = {energy},  N(E) = {energy_histogram[energy]:,}\")\n",
        "\n",
        "\n",
        "for L in [5]:\n",
        "    print(f\"\\nDensidad de estados para {L}x{L}:\")\n",
        "    print_density_of_states_non_periodic(L)"
      ],
      "metadata": {
        "colab": {
          "base_uri": "https://localhost:8080/"
        },
        "outputId": "95ae38b3-34a0-4b02-8ea1-0387494a5d12",
        "id": "wkUCfKTN2rYE"
      },
      "execution_count": 7,
      "outputs": [
        {
          "output_type": "stream",
          "name": "stdout",
          "text": [
            "\n",
            "Densidad de estados para 5x5:\n",
            "E = 0.0,  N(E) = 4,355,924\n",
            "E = 2.0,  N(E) = 4,108,408\n",
            "E = 4.0,  N(E) = 3,474,900\n",
            "E = 6.0,  N(E) = 2,658,328\n",
            "E = 8.0,  N(E) = 1,837,876\n",
            "E = 10.0,  N(E) = 1,157,160\n",
            "E = 12.0,  N(E) = 672,908\n",
            "E = 14.0,  N(E) = 362,136\n",
            "E = 16.0,  N(E) = 180,616\n",
            "E = 18.0,  N(E) = 84,424\n",
            "E = 20.0,  N(E) = 37,412\n",
            "E = 22.0,  N(E) = 15,544\n",
            "E = 24.0,  N(E) = 5,962\n",
            "E = 26.0,  N(E) = 2,312\n",
            "E = 28.0,  N(E) = 884\n",
            "E = 30.0,  N(E) = 256\n",
            "E = 32.0,  N(E) = 78\n",
            "E = 34.0,  N(E) = 40\n",
            "E = 36.0,  N(E) = 8\n",
            "E = 40.0,  N(E) = 2\n"
          ]
        }
      ]
    }
  ]
}